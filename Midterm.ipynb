{
  "nbformat": 4,
  "nbformat_minor": 0,
  "metadata": {
    "colab": {
      "name": "Midterm.ipynb",
      "provenance": [],
      "collapsed_sections": [],
      "authorship_tag": "ABX9TyNA2tgbID5/2BqnTvHGTbZ0",
      "include_colab_link": true
    },
    "kernelspec": {
      "name": "python3",
      "display_name": "Python 3"
    },
    "language_info": {
      "name": "python"
    }
  },
  "cells": [
    {
      "cell_type": "markdown",
      "metadata": {
        "id": "view-in-github",
        "colab_type": "text"
      },
      "source": [
        "<a href=\"https://colab.research.google.com/github/hengoe/DataProcessingInPython_Midterm/blob/main/Midterm.ipynb\" target=\"_parent\"><img src=\"https://colab.research.google.com/assets/colab-badge.svg\" alt=\"Open In Colab\"/></a>"
      ]
    },
    {
      "cell_type": "code",
      "metadata": {
        "id": "een0Tvvi_-nn"
      },
      "source": [
        "import requests\n",
        "import time\n",
        "from bs4 import BeautifulSoup as bs\n",
        "import pandas as pd\n",
        "import json\n",
        "from time import sleep\n",
        "import numpy as np"
      ],
      "execution_count": 205,
      "outputs": []
    },
    {
      "cell_type": "markdown",
      "metadata": {
        "id": "ZZqJ6HJtIS5x"
      },
      "source": [
        "# Part 1 - API requests"
      ]
    },
    {
      "cell_type": "markdown",
      "metadata": {
        "id": "5m1ZjXbVIGo0"
      },
      "source": [
        "## Exercise 1"
      ]
    },
    {
      "cell_type": "code",
      "metadata": {
        "colab": {
          "base_uri": "https://localhost:8080/"
        },
        "id": "FfZrz3S6EAT7",
        "outputId": "de08f76e-58a2-42a6-b891-035e54ae0240"
      },
      "source": [
        "url = \"https://ies-midterm.soulution.rocks/login/\"\n",
        "params = '{\"cuni\": \"19560968\"}'\n",
        "\n",
        "# use payload of JSON type string ‘{\"cuni\":\"yourCUNInumber\"}’ to authenticate\n",
        "r = requests.post(url = url, data = params)\n",
        "dataFromLogin = r.json()\n",
        "\n",
        "# print the personal_code you find in the response,\n",
        "print(\"My personal code is: \" + dataFromLogin['data']['personal_code'])\n",
        "\n",
        "# save the list of codes for this is your generated dataset\n",
        "listOfCodes = dataFromLogin['data']['dataset_ids']"
      ],
      "execution_count": 143,
      "outputs": [
        {
          "output_type": "stream",
          "text": [
            "My personal code is: fefc72e8\n"
          ],
          "name": "stdout"
        }
      ]
    },
    {
      "cell_type": "markdown",
      "metadata": {
        "id": "5Ektrr3YIPDR"
      },
      "source": [
        "## Exercise 2"
      ]
    },
    {
      "cell_type": "code",
      "metadata": {
        "id": "40f1YO3gGOVM"
      },
      "source": [
        "# for each of the codes you received from /login, send a GET to \n",
        "# /data/{data_code} to receive a part of the dataset"
      ],
      "execution_count": null,
      "outputs": []
    },
    {
      "cell_type": "code",
      "metadata": {
        "colab": {
          "base_uri": "https://localhost:8080/"
        },
        "id": "_1RUAmTPIkfZ",
        "outputId": "1e8e0b7b-d46e-4308-b59a-2f9e2dbd75e4"
      },
      "source": [
        "lcompanies = []\n",
        "ldata = []\n",
        "\n",
        "for data_code in listOfCodes:\n",
        "  print(\"Getting data for data_code: \" + data_code)\n",
        "  \n",
        "  url = \"https://ies-midterm.soulution.rocks/data/\" + data_code\n",
        "  params = '{\"cuni\": \"19560968\"}'\n",
        "\n",
        "  # use payload of JSON type string ‘{\"cuni\":\"yourCUNInumber\"}’ to authenticate\n",
        "  r = requests.get(url = url, params = params)\n",
        "  res = json.loads(r.text)\n",
        "\n",
        "  # handle error:\n",
        "  while (not res['data']): # empty dict? try again :)\n",
        "    r = requests.get(url = url, params = params)\n",
        "    res = json.loads(r.text)\n",
        "    print(\"Got an error while getting the data. Trying again!\")\n",
        "\n",
        "  company = res['data']['company']\n",
        "  data = pd.DataFrame(res['data']['data'])\n",
        "\n",
        "  lcompanies.append(company)\n",
        "  ldata.append(data)\n",
        "\n",
        "  print(\"Successfully got data for data_code: \" + data_code)\n",
        "  print(\"---------------------------------------------------\")\n",
        "  sleep(0.2)"
      ],
      "execution_count": 144,
      "outputs": [
        {
          "output_type": "stream",
          "text": [
            "Getting data for data_code: 3e8641892a\n",
            "Successfully got data for data_code: 3e8641892a\n",
            "---------------------------------------------------\n",
            "Getting data for data_code: 8f8c9919a6\n",
            "Successfully got data for data_code: 8f8c9919a6\n",
            "---------------------------------------------------\n",
            "Getting data for data_code: 5df3513c79\n",
            "Got an error while getting the data. Trying again!\n",
            "Successfully got data for data_code: 5df3513c79\n",
            "---------------------------------------------------\n",
            "Getting data for data_code: 24f88cb68c\n",
            "Got an error while getting the data. Trying again!\n",
            "Successfully got data for data_code: 24f88cb68c\n",
            "---------------------------------------------------\n",
            "Getting data for data_code: 81395feb08\n",
            "Successfully got data for data_code: 81395feb08\n",
            "---------------------------------------------------\n"
          ],
          "name": "stdout"
        }
      ]
    },
    {
      "cell_type": "markdown",
      "metadata": {
        "id": "v0P1pq22IVXm"
      },
      "source": [
        "# Part 2 - Data analysis\n"
      ]
    },
    {
      "cell_type": "code",
      "metadata": {
        "colab": {
          "base_uri": "https://localhost:8080/"
        },
        "id": "TmHdk2KWLbO4",
        "outputId": "f5d4bacd-dbe9-4653-a009-da9cd05fb44c"
      },
      "source": [
        "lcompanies"
      ],
      "execution_count": 122,
      "outputs": [
        {
          "output_type": "execute_result",
          "data": {
            "text/plain": [
              "['BHP', 'HIK', 'SLA', 'PSN', 'CCH']"
            ]
          },
          "metadata": {
            "tags": []
          },
          "execution_count": 122
        }
      ]
    },
    {
      "cell_type": "code",
      "metadata": {
        "id": "iEx1zBJxRIto"
      },
      "source": [
        "temp = ldata.copy()"
      ],
      "execution_count": 145,
      "outputs": []
    },
    {
      "cell_type": "code",
      "metadata": {
        "id": "2lm7L37VR2qb"
      },
      "source": [
        "l = []\n",
        "i = 0\n",
        "for company in lcompanies:\n",
        "  df = temp[i].set_index('Date')\n",
        "  df['Company'] = [company]*df.shape[0]\n",
        "  \n",
        "  l.append(df)\n",
        "  i += 1\n",
        "\n",
        "data = pd.concat(l).reset_index().set_index(['Company','Date'])"
      ],
      "execution_count": 178,
      "outputs": []
    },
    {
      "cell_type": "code",
      "metadata": {
        "colab": {
          "base_uri": "https://localhost:8080/"
        },
        "id": "-HGEtwJ1IXN7",
        "outputId": "f9206c65-aca3-4bd7-a09f-99f18f4e7fbe"
      },
      "source": [
        "#- the time series should be from 2019-01-02 to 2020-11-20. Is it the case in your sample?\n",
        "desired = list(pd.Series(data.index.get_level_values(level=1)).unique())\n",
        "for company in lcompanies:\n",
        "  if desired == list(data.loc[company].index):\n",
        "    print(\"For \"+ company + \" it is fulfilled!\")\n",
        "  else:\n",
        "    print(\"For \"+ company + \" it is not fulfilled!\")"
      ],
      "execution_count": 204,
      "outputs": [
        {
          "output_type": "stream",
          "text": [
            "For BHPit is fulfilled!\n",
            "For HIKit is not fulfilled!\n",
            "For SLAit is not fulfilled!\n",
            "For PSNit is not fulfilled!\n",
            "For CCHit is fulfilled!\n"
          ],
          "name": "stdout"
        }
      ]
    },
    {
      "cell_type": "code",
      "metadata": {
        "id": "oanZzkr1Z3VZ"
      },
      "source": [
        ""
      ],
      "execution_count": null,
      "outputs": []
    },
    {
      "cell_type": "code",
      "metadata": {
        "id": "v1RnD-o7ZZjE"
      },
      "source": [
        "#- what is the highest and lowest Adj Close price the company recorded?\n",
        "for company in lcompanies:\n",
        "  temp = np.max(int(data.loc[company]['Adj.Close']))\n",
        "  print(company + \": \" + str(temp))\n",
        "\n",
        "\n",
        "\n",
        "  # I know id have to convert datatype but dont have time anymore :("
      ],
      "execution_count": null,
      "outputs": []
    },
    {
      "cell_type": "code",
      "metadata": {
        "id": "hoOt4LVsZZd1"
      },
      "source": [
        "#- what day was the highest number of shares traded\n"
      ],
      "execution_count": null,
      "outputs": []
    },
    {
      "cell_type": "code",
      "metadata": {
        "id": "r-vIzo6-ZZYm"
      },
      "source": [
        "#- what is the total of shares traded\n",
        "np.sum(data['Volume'])"
      ],
      "execution_count": null,
      "outputs": []
    },
    {
      "cell_type": "code",
      "metadata": {
        "id": "U-6QoNdzZZTH"
      },
      "source": [
        "#- for the company with the highest volume of shares traded over the whole period, plot their share price over time\n"
      ],
      "execution_count": null,
      "outputs": []
    },
    {
      "cell_type": "code",
      "metadata": {
        "id": "_5cFRSofZZN8"
      },
      "source": [
        "#- when did the company record the highest gain and highest loss for the day? (logarithmic loss)\n"
      ],
      "execution_count": null,
      "outputs": []
    },
    {
      "cell_type": "code",
      "metadata": {
        "id": "KGQNOoOUZZI3"
      },
      "source": [
        "#- plot the log returns for the company that has the largest difference between opening and closing price. What day and what company did it occur at?\n"
      ],
      "execution_count": null,
      "outputs": []
    },
    {
      "cell_type": "code",
      "metadata": {
        "id": "xZKv4hIHZZDy"
      },
      "source": [
        "#- find monthly returns. Which company has the highest recorded?\n"
      ],
      "execution_count": null,
      "outputs": []
    },
    {
      "cell_type": "code",
      "metadata": {
        "id": "ojdJOxYgZZA0"
      },
      "source": [
        "#- for stocks with full time series, calculate 10day volatility by calculating the standard\n",
        "#deviation of the previous 10 days. (i.e. 10th day is the first observation and it includes\n",
        "#given day)"
      ],
      "execution_count": null,
      "outputs": []
    },
    {
      "cell_type": "code",
      "metadata": {
        "id": "wfDBdIYlZY1i"
      },
      "source": [
        "#- create a single object with Adjusted Close prices, plot them together in one time series\n",
        "#plot"
      ],
      "execution_count": null,
      "outputs": []
    },
    {
      "cell_type": "code",
      "metadata": {
        "id": "2vnDGvPtZYyp"
      },
      "source": [
        ""
      ],
      "execution_count": null,
      "outputs": []
    },
    {
      "cell_type": "code",
      "metadata": {
        "id": "dQYgQetEZYuQ"
      },
      "source": [
        ""
      ],
      "execution_count": null,
      "outputs": []
    },
    {
      "cell_type": "code",
      "metadata": {
        "id": "2wxF7s_GZYq8"
      },
      "source": [
        ""
      ],
      "execution_count": null,
      "outputs": []
    }
  ]
}