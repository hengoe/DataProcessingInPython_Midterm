{
  "nbformat": 4,
  "nbformat_minor": 0,
  "metadata": {
    "colab": {
      "name": "Midterm.ipynb",
      "provenance": [],
      "collapsed_sections": [],
      "authorship_tag": "ABX9TyPxs6LsKVJgh0Ny9cDHBTTn",
      "include_colab_link": true
    },
    "kernelspec": {
      "name": "python3",
      "display_name": "Python 3"
    },
    "language_info": {
      "name": "python"
    }
  },
  "cells": [
    {
      "cell_type": "markdown",
      "metadata": {
        "id": "view-in-github",
        "colab_type": "text"
      },
      "source": [
        "<a href=\"https://colab.research.google.com/github/hengoe/DataProcessingInPython_Midterm/blob/main/Midterm.ipynb\" target=\"_parent\"><img src=\"https://colab.research.google.com/assets/colab-badge.svg\" alt=\"Open In Colab\"/></a>"
      ]
    },
    {
      "cell_type": "code",
      "metadata": {
        "id": "een0Tvvi_-nn"
      },
      "source": [
        "import requests\n",
        "import time\n",
        "from bs4 import BeautifulSoup as bs\n",
        "import pandas as pd\n",
        "import json\n",
        "from time import sleep"
      ],
      "execution_count": 98,
      "outputs": []
    },
    {
      "cell_type": "markdown",
      "metadata": {
        "id": "ZZqJ6HJtIS5x"
      },
      "source": [
        "# Part 1 - API requests"
      ]
    },
    {
      "cell_type": "markdown",
      "metadata": {
        "id": "5m1ZjXbVIGo0"
      },
      "source": [
        "## Exercise 1"
      ]
    },
    {
      "cell_type": "code",
      "metadata": {
        "colab": {
          "base_uri": "https://localhost:8080/"
        },
        "id": "FfZrz3S6EAT7",
        "outputId": "2f3e82f7-1e2f-4e16-9abc-3068e9019b1d"
      },
      "source": [
        "url = \"https://ies-midterm.soulution.rocks/login/\"\n",
        "params = '{\"cuni\": \"19560968\"}'\n",
        "\n",
        "# use payload of JSON type string ‘{\"cuni\":\"yourCUNInumber\"}’ to authenticate\n",
        "r = requests.post(url = url, data = params)\n",
        "dataFromLogin = r.json()\n",
        "\n",
        "# print the personal_code you find in the response,\n",
        "print(\"My personal code is: \" + dataFromLogin['data']['personal_code'])\n",
        "\n",
        "# save the list of codes for this is your generated dataset\n",
        "listOfCodes = dataFromLogin['data']['dataset_ids']"
      ],
      "execution_count": 119,
      "outputs": [
        {
          "output_type": "stream",
          "text": [
            "My personal code is: fefc72e8\n"
          ],
          "name": "stdout"
        }
      ]
    },
    {
      "cell_type": "markdown",
      "metadata": {
        "id": "5Ektrr3YIPDR"
      },
      "source": [
        "## Exercise 2"
      ]
    },
    {
      "cell_type": "code",
      "metadata": {
        "id": "40f1YO3gGOVM"
      },
      "source": [
        "# for each of the codes you received from /login, send a GET to \n",
        "# /data/{data_code} to receive a part of the dataset"
      ],
      "execution_count": null,
      "outputs": []
    },
    {
      "cell_type": "code",
      "metadata": {
        "colab": {
          "base_uri": "https://localhost:8080/"
        },
        "id": "_1RUAmTPIkfZ",
        "outputId": "f1423052-c75b-40e3-d91e-f5b961bf8685"
      },
      "source": [
        "lcompanies = []\n",
        "ldata = []\n",
        "\n",
        "for data_code in listOfCodes:\n",
        "  print(\"Getting data for data_code: \" + data_code)\n",
        "  \n",
        "  url = \"https://ies-midterm.soulution.rocks/data/\" + data_code\n",
        "  params = '{\"cuni\": \"19560968\"}'\n",
        "\n",
        "  # use payload of JSON type string ‘{\"cuni\":\"yourCUNInumber\"}’ to authenticate\n",
        "  r = requests.get(url = url, params = params)\n",
        "  res = json.loads(r.text)\n",
        "\n",
        "  # handle error:\n",
        "  while (not res['data']): # empty dict? try again :)\n",
        "    r = requests.get(url = url, params = params)\n",
        "    res = json.loads(r.text)\n",
        "    print(\"Got an error while getting the data. Trying again!\")\n",
        "\n",
        "  company = res['data']['company']\n",
        "  data = pd.DataFrame(res['data']['data'])\n",
        "\n",
        "  lcompanies.append(company)\n",
        "  ldata.append(data)\n",
        "\n",
        "  print(\"Successfully got data for data_code: \" + data_code)\n",
        "  print(\"---------------------------------------------------\")\n",
        "  sleep(0.2)"
      ],
      "execution_count": 120,
      "outputs": [
        {
          "output_type": "stream",
          "text": [
            "Getting data for data_code: 3e8641892a\n",
            "Successfully got data for data_code: 3e8641892a\n",
            "---------------------------------------------------\n",
            "Getting data for data_code: 8f8c9919a6\n",
            "Successfully got data for data_code: 8f8c9919a6\n",
            "---------------------------------------------------\n",
            "Getting data for data_code: 5df3513c79\n",
            "Successfully got data for data_code: 5df3513c79\n",
            "---------------------------------------------------\n",
            "Getting data for data_code: 24f88cb68c\n",
            "Got an error while getting the data. Trying again!\n",
            "Successfully got data for data_code: 24f88cb68c\n",
            "---------------------------------------------------\n",
            "Getting data for data_code: 81395feb08\n",
            "Got an error while getting the data. Trying again!\n",
            "Got an error while getting the data. Trying again!\n",
            "Successfully got data for data_code: 81395feb08\n",
            "---------------------------------------------------\n"
          ],
          "name": "stdout"
        }
      ]
    },
    {
      "cell_type": "markdown",
      "metadata": {
        "id": "v0P1pq22IVXm"
      },
      "source": [
        "# Part 2 - Data analysis\n"
      ]
    },
    {
      "cell_type": "code",
      "metadata": {
        "colab": {
          "base_uri": "https://localhost:8080/"
        },
        "id": "TmHdk2KWLbO4",
        "outputId": "f5d4bacd-dbe9-4653-a009-da9cd05fb44c"
      },
      "source": [
        "lcompanies"
      ],
      "execution_count": 122,
      "outputs": [
        {
          "output_type": "execute_result",
          "data": {
            "text/plain": [
              "['BHP', 'HIK', 'SLA', 'PSN', 'CCH']"
            ]
          },
          "metadata": {
            "tags": []
          },
          "execution_count": 122
        }
      ]
    },
    {
      "cell_type": "code",
      "metadata": {
        "colab": {
          "base_uri": "https://localhost:8080/"
        },
        "id": "iEx1zBJxRIto",
        "outputId": "7d7de32d-7d9a-4285-8b04-2c304e6a36e4"
      },
      "source": [
        "ldata"
      ],
      "execution_count": 125,
      "outputs": [
        {
          "output_type": "execute_result",
          "data": {
            "text/plain": [
              "[           Date                Open  ...           Adj.Close   Volume\n",
              " 0    2019-01-02   46.63999938964844  ...  41.490047454833984  2003600\n",
              " 1    2019-01-03               47.25  ...    40.2156982421875  3951500\n",
              " 2    2019-01-04   48.02000045776367  ...   42.66904067993164  3996400\n",
              " 3    2019-01-07  49.369998931884766  ...  42.894432067871094  3078700\n",
              " 4    2019-01-08   49.70000076293945  ...  42.764400482177734  2907600\n",
              " ..          ...                 ...  ...                 ...      ...\n",
              " 474  2020-11-17  53.540000915527344  ...   53.72999954223633  2305700\n",
              " 475  2020-11-18  53.939998626708984  ...   53.33000183105469  1642600\n",
              " 476  2020-11-19   52.88999938964844  ...   53.08000183105469  1469300\n",
              " 477  2020-11-20  53.560001373291016  ...   53.70000076293945  1215400\n",
              " 478                             NaN  ...                 NaN      NaN\n",
              " \n",
              " [479 rows x 7 columns],\n",
              "            Date                Open  ...           Adj.Close Volume\n",
              " 0    2019-01-02  10.229999542236328  ...  10.229999542236328      0\n",
              " 1    2019-01-03  10.229999542236328  ...  10.229999542236328      0\n",
              " 2    2019-01-07  10.229999542236328  ...  10.229999542236328      0\n",
              " 3    2019-01-08  10.229999542236328  ...  10.229999542236328      0\n",
              " 4    2019-01-09  10.229999542236328  ...  10.229999542236328      0\n",
              " ..          ...                 ...  ...                 ...    ...\n",
              " 376  2020-11-16  10.229999542236328  ...  10.229999542236328      0\n",
              " 377  2020-11-17  10.229999542236328  ...  10.229999542236328      0\n",
              " 378  2020-11-18  10.229999542236328  ...  10.229999542236328      0\n",
              " 379  2020-11-19  10.229999542236328  ...  10.229999542236328      0\n",
              " 380                             NaN  ...                 NaN    NaN\n",
              " \n",
              " [381 rows x 7 columns],\n",
              "            Date                Open  ...           Adj.Close Volume\n",
              " 0    2019-01-02   77.48999786376953  ...   77.48999786376953  20000\n",
              " 1    2019-01-03   77.48999786376953  ...   77.48999786376953      0\n",
              " 2    2019-01-04   77.48999786376953  ...   77.48999786376953      0\n",
              " 3    2019-01-07    81.2699966430664  ...    81.2699966430664  35050\n",
              " 4    2019-01-08    81.2699966430664  ...    81.2699966430664      0\n",
              " ..          ...                 ...  ...                 ...    ...\n",
              " 177  2020-04-24   56.18000030517578  ...   56.18000030517578  26992\n",
              " 178  2020-04-27   56.18000030517578  ...   56.18000030517578      0\n",
              " 179  2020-04-28   57.40999984741211  ...   57.40999984741211  35618\n",
              " 180  2020-04-29  59.880001068115234  ...  59.880001068115234   7495\n",
              " 181                             NaN  ...                 NaN    NaN\n",
              " \n",
              " [182 rows x 7 columns],\n",
              "            Date                Open  ...           Adj.Close    Volume\n",
              " 0    2019-05-08  30.649999618530273  ...   30.06999969482422  14793400\n",
              " 1    2019-05-09  29.639999389648438  ...  30.100000381469727   1719300\n",
              " 2    2019-05-10  29.889999389648438  ...  31.010000228881836    739700\n",
              " 3    2019-05-13  30.290000915527344  ...  31.059999465942383   1040700\n",
              " 4    2019-05-14  31.100000381469727  ...               31.75   2409100\n",
              " ..          ...                 ...  ...                 ...       ...\n",
              " 387  2020-11-17   33.68000030517578  ...   33.68000030517578    270000\n",
              " 388  2020-11-18   33.90999984741211  ...  32.790000915527344    282600\n",
              " 389  2020-11-19   32.61000061035156  ...  32.220001220703125    661600\n",
              " 390  2020-11-20   32.06999969482422  ...               31.75    347700\n",
              " 391                             NaN  ...                 NaN       NaN\n",
              " \n",
              " [392 rows x 7 columns],\n",
              "            Date                Open  ...           Adj.Close   Volume\n",
              " 0    2019-01-02   9.649999618530273  ...   9.623074531555176      500\n",
              " 1    2019-01-03   9.630000114440918  ...   9.603131294250488     1700\n",
              " 2    2019-01-04   9.640000343322754  ...   9.613102912902832     1500\n",
              " 3    2019-01-07   9.640000343322754  ...   9.613102912902832     1000\n",
              " 4    2019-01-08   9.630000114440918  ...   9.603131294250488   186600\n",
              " ..          ...                 ...  ...                 ...      ...\n",
              " 474  2020-11-17  18.920000076293945  ...    18.6200008392334   491872\n",
              " 475  2020-11-18  18.950000762939453  ...   18.81999969482422   756785\n",
              " 476  2020-11-19  18.850000381469727  ...  19.100000381469727   725184\n",
              " 477  2020-11-20  19.290000915527344  ...  19.389999389648438  1020227\n",
              " 478                             NaN  ...                 NaN      NaN\n",
              " \n",
              " [479 rows x 7 columns]]"
            ]
          },
          "metadata": {
            "tags": []
          },
          "execution_count": 125
        }
      ]
    },
    {
      "cell_type": "code",
      "metadata": {
        "colab": {
          "base_uri": "https://localhost:8080/",
          "height": 309
        },
        "id": "Z-DIgCauIXoj",
        "outputId": "900ece5d-6b9c-412e-ca78-797190c089ad"
      },
      "source": [
        "df = pd.concat(ldata)\n",
        "df.head()"
      ],
      "execution_count": 124,
      "outputs": [
        {
          "output_type": "execute_result",
          "data": {
            "text/html": [
              "<div>\n",
              "<style scoped>\n",
              "    .dataframe tbody tr th:only-of-type {\n",
              "        vertical-align: middle;\n",
              "    }\n",
              "\n",
              "    .dataframe tbody tr th {\n",
              "        vertical-align: top;\n",
              "    }\n",
              "\n",
              "    .dataframe thead th {\n",
              "        text-align: right;\n",
              "    }\n",
              "</style>\n",
              "<table border=\"1\" class=\"dataframe\">\n",
              "  <thead>\n",
              "    <tr style=\"text-align: right;\">\n",
              "      <th></th>\n",
              "      <th>Date</th>\n",
              "      <th>Open</th>\n",
              "      <th>High</th>\n",
              "      <th>Low</th>\n",
              "      <th>Close</th>\n",
              "      <th>Adj.Close</th>\n",
              "      <th>Volume</th>\n",
              "    </tr>\n",
              "  </thead>\n",
              "  <tbody>\n",
              "    <tr>\n",
              "      <th>0</th>\n",
              "      <td>2019-01-02</td>\n",
              "      <td>46.63999938964844</td>\n",
              "      <td>47.900001525878906</td>\n",
              "      <td>46.45000076293945</td>\n",
              "      <td>47.86000061035156</td>\n",
              "      <td>41.490047454833984</td>\n",
              "      <td>2003600</td>\n",
              "    </tr>\n",
              "    <tr>\n",
              "      <th>1</th>\n",
              "      <td>2019-01-03</td>\n",
              "      <td>47.25</td>\n",
              "      <td>47.380001068115234</td>\n",
              "      <td>46.29999923706055</td>\n",
              "      <td>46.38999938964844</td>\n",
              "      <td>40.2156982421875</td>\n",
              "      <td>3951500</td>\n",
              "    </tr>\n",
              "    <tr>\n",
              "      <th>2</th>\n",
              "      <td>2019-01-04</td>\n",
              "      <td>48.02000045776367</td>\n",
              "      <td>49.54999923706055</td>\n",
              "      <td>47.86000061035156</td>\n",
              "      <td>49.220001220703125</td>\n",
              "      <td>42.66904067993164</td>\n",
              "      <td>3996400</td>\n",
              "    </tr>\n",
              "    <tr>\n",
              "      <th>3</th>\n",
              "      <td>2019-01-07</td>\n",
              "      <td>49.369998931884766</td>\n",
              "      <td>49.939998626708984</td>\n",
              "      <td>49.099998474121094</td>\n",
              "      <td>49.47999954223633</td>\n",
              "      <td>42.894432067871094</td>\n",
              "      <td>3078700</td>\n",
              "    </tr>\n",
              "    <tr>\n",
              "      <th>4</th>\n",
              "      <td>2019-01-08</td>\n",
              "      <td>49.70000076293945</td>\n",
              "      <td>49.959999084472656</td>\n",
              "      <td>49.189998626708984</td>\n",
              "      <td>49.33000183105469</td>\n",
              "      <td>42.764400482177734</td>\n",
              "      <td>2907600</td>\n",
              "    </tr>\n",
              "  </tbody>\n",
              "</table>\n",
              "</div>"
            ],
            "text/plain": [
              "         Date                Open  ...           Adj.Close   Volume\n",
              "0  2019-01-02   46.63999938964844  ...  41.490047454833984  2003600\n",
              "1  2019-01-03               47.25  ...    40.2156982421875  3951500\n",
              "2  2019-01-04   48.02000045776367  ...   42.66904067993164  3996400\n",
              "3  2019-01-07  49.369998931884766  ...  42.894432067871094  3078700\n",
              "4  2019-01-08   49.70000076293945  ...  42.764400482177734  2907600\n",
              "\n",
              "[5 rows x 7 columns]"
            ]
          },
          "metadata": {
            "tags": []
          },
          "execution_count": 124
        }
      ]
    },
    {
      "cell_type": "code",
      "metadata": {
        "id": "_rnlorbWIXk_"
      },
      "source": [
        ""
      ],
      "execution_count": null,
      "outputs": []
    },
    {
      "cell_type": "code",
      "metadata": {
        "id": "-HGEtwJ1IXN7"
      },
      "source": [
        ""
      ],
      "execution_count": null,
      "outputs": []
    }
  ]
}