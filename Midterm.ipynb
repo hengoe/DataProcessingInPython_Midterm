{
  "nbformat": 4,
  "nbformat_minor": 0,
  "metadata": {
    "colab": {
      "name": "Midterm.ipynb",
      "provenance": [],
      "collapsed_sections": [],
      "authorship_tag": "ABX9TyNjBPR1x+W4mDUCLOwtQ3pw",
      "include_colab_link": true
    },
    "kernelspec": {
      "name": "python3",
      "display_name": "Python 3"
    },
    "language_info": {
      "name": "python"
    }
  },
  "cells": [
    {
      "cell_type": "markdown",
      "metadata": {
        "id": "view-in-github",
        "colab_type": "text"
      },
      "source": [
        "<a href=\"https://colab.research.google.com/github/hengoe/DataProcessingInPython_Midterm/blob/main/Midterm.ipynb\" target=\"_parent\"><img src=\"https://colab.research.google.com/assets/colab-badge.svg\" alt=\"Open In Colab\"/></a>"
      ]
    },
    {
      "cell_type": "code",
      "metadata": {
        "id": "een0Tvvi_-nn"
      },
      "source": [
        "import requests\n",
        "import time\n",
        "from bs4 import BeautifulSoup as bs\n",
        "import pandas as pd\n",
        "import json\n",
        "from time import sleep"
      ],
      "execution_count": 98,
      "outputs": []
    },
    {
      "cell_type": "markdown",
      "metadata": {
        "id": "ZZqJ6HJtIS5x"
      },
      "source": [
        "# Part 1 - API requests"
      ]
    },
    {
      "cell_type": "markdown",
      "metadata": {
        "id": "5m1ZjXbVIGo0"
      },
      "source": [
        "## Exercise 1"
      ]
    },
    {
      "cell_type": "code",
      "metadata": {
        "colab": {
          "base_uri": "https://localhost:8080/"
        },
        "id": "FfZrz3S6EAT7",
        "outputId": "de08f76e-58a2-42a6-b891-035e54ae0240"
      },
      "source": [
        "url = \"https://ies-midterm.soulution.rocks/login/\"\n",
        "params = '{\"cuni\": \"19560968\"}'\n",
        "\n",
        "# use payload of JSON type string ‘{\"cuni\":\"yourCUNInumber\"}’ to authenticate\n",
        "r = requests.post(url = url, data = params)\n",
        "dataFromLogin = r.json()\n",
        "\n",
        "# print the personal_code you find in the response,\n",
        "print(\"My personal code is: \" + dataFromLogin['data']['personal_code'])\n",
        "\n",
        "# save the list of codes for this is your generated dataset\n",
        "listOfCodes = dataFromLogin['data']['dataset_ids']"
      ],
      "execution_count": 143,
      "outputs": [
        {
          "output_type": "stream",
          "text": [
            "My personal code is: fefc72e8\n"
          ],
          "name": "stdout"
        }
      ]
    },
    {
      "cell_type": "markdown",
      "metadata": {
        "id": "5Ektrr3YIPDR"
      },
      "source": [
        "## Exercise 2"
      ]
    },
    {
      "cell_type": "code",
      "metadata": {
        "id": "40f1YO3gGOVM"
      },
      "source": [
        "# for each of the codes you received from /login, send a GET to \n",
        "# /data/{data_code} to receive a part of the dataset"
      ],
      "execution_count": null,
      "outputs": []
    },
    {
      "cell_type": "code",
      "metadata": {
        "colab": {
          "base_uri": "https://localhost:8080/"
        },
        "id": "_1RUAmTPIkfZ",
        "outputId": "1e8e0b7b-d46e-4308-b59a-2f9e2dbd75e4"
      },
      "source": [
        "lcompanies = []\n",
        "ldata = []\n",
        "\n",
        "for data_code in listOfCodes:\n",
        "  print(\"Getting data for data_code: \" + data_code)\n",
        "  \n",
        "  url = \"https://ies-midterm.soulution.rocks/data/\" + data_code\n",
        "  params = '{\"cuni\": \"19560968\"}'\n",
        "\n",
        "  # use payload of JSON type string ‘{\"cuni\":\"yourCUNInumber\"}’ to authenticate\n",
        "  r = requests.get(url = url, params = params)\n",
        "  res = json.loads(r.text)\n",
        "\n",
        "  # handle error:\n",
        "  while (not res['data']): # empty dict? try again :)\n",
        "    r = requests.get(url = url, params = params)\n",
        "    res = json.loads(r.text)\n",
        "    print(\"Got an error while getting the data. Trying again!\")\n",
        "\n",
        "  company = res['data']['company']\n",
        "  data = pd.DataFrame(res['data']['data'])\n",
        "\n",
        "  lcompanies.append(company)\n",
        "  ldata.append(data)\n",
        "\n",
        "  print(\"Successfully got data for data_code: \" + data_code)\n",
        "  print(\"---------------------------------------------------\")\n",
        "  sleep(0.2)"
      ],
      "execution_count": 144,
      "outputs": [
        {
          "output_type": "stream",
          "text": [
            "Getting data for data_code: 3e8641892a\n",
            "Successfully got data for data_code: 3e8641892a\n",
            "---------------------------------------------------\n",
            "Getting data for data_code: 8f8c9919a6\n",
            "Successfully got data for data_code: 8f8c9919a6\n",
            "---------------------------------------------------\n",
            "Getting data for data_code: 5df3513c79\n",
            "Got an error while getting the data. Trying again!\n",
            "Successfully got data for data_code: 5df3513c79\n",
            "---------------------------------------------------\n",
            "Getting data for data_code: 24f88cb68c\n",
            "Got an error while getting the data. Trying again!\n",
            "Successfully got data for data_code: 24f88cb68c\n",
            "---------------------------------------------------\n",
            "Getting data for data_code: 81395feb08\n",
            "Successfully got data for data_code: 81395feb08\n",
            "---------------------------------------------------\n"
          ],
          "name": "stdout"
        }
      ]
    },
    {
      "cell_type": "markdown",
      "metadata": {
        "id": "v0P1pq22IVXm"
      },
      "source": [
        "# Part 2 - Data analysis\n"
      ]
    },
    {
      "cell_type": "code",
      "metadata": {
        "colab": {
          "base_uri": "https://localhost:8080/"
        },
        "id": "TmHdk2KWLbO4",
        "outputId": "f5d4bacd-dbe9-4653-a009-da9cd05fb44c"
      },
      "source": [
        "lcompanies"
      ],
      "execution_count": 122,
      "outputs": [
        {
          "output_type": "execute_result",
          "data": {
            "text/plain": [
              "['BHP', 'HIK', 'SLA', 'PSN', 'CCH']"
            ]
          },
          "metadata": {
            "tags": []
          },
          "execution_count": 122
        }
      ]
    },
    {
      "cell_type": "code",
      "metadata": {
        "id": "iEx1zBJxRIto"
      },
      "source": [
        "temp = ldata.copy()"
      ],
      "execution_count": 145,
      "outputs": []
    },
    {
      "cell_type": "code",
      "metadata": {
        "id": "2lm7L37VR2qb"
      },
      "source": [
        "l = []\n",
        "i = 0\n",
        "for company in lcompanies:\n",
        "  df = temp[i].set_index('Date')\n",
        "  df['Company'] = [company]*df.shape[0]\n",
        "  \n",
        "  l.append(df)\n",
        "  i += 1\n",
        "\n",
        "data = pd.concat(l).reset_index().set_index(['Company','Date'])"
      ],
      "execution_count": 178,
      "outputs": []
    },
    {
      "cell_type": "code",
      "metadata": {
        "colab": {
          "base_uri": "https://localhost:8080/",
          "height": 623
        },
        "id": "Z-DIgCauIXoj",
        "outputId": "9c954cd5-2fbf-4f12-d102-b6fafa1e6718"
      },
      "source": [
        "data"
      ],
      "execution_count": 179,
      "outputs": [
        {
          "output_type": "execute_result",
          "data": {
            "text/html": [
              "<div>\n",
              "<style scoped>\n",
              "    .dataframe tbody tr th:only-of-type {\n",
              "        vertical-align: middle;\n",
              "    }\n",
              "\n",
              "    .dataframe tbody tr th {\n",
              "        vertical-align: top;\n",
              "    }\n",
              "\n",
              "    .dataframe thead th {\n",
              "        text-align: right;\n",
              "    }\n",
              "</style>\n",
              "<table border=\"1\" class=\"dataframe\">\n",
              "  <thead>\n",
              "    <tr style=\"text-align: right;\">\n",
              "      <th></th>\n",
              "      <th></th>\n",
              "      <th>Open</th>\n",
              "      <th>High</th>\n",
              "      <th>Low</th>\n",
              "      <th>Close</th>\n",
              "      <th>Adj.Close</th>\n",
              "      <th>Volume</th>\n",
              "    </tr>\n",
              "    <tr>\n",
              "      <th>Company</th>\n",
              "      <th>Date</th>\n",
              "      <th></th>\n",
              "      <th></th>\n",
              "      <th></th>\n",
              "      <th></th>\n",
              "      <th></th>\n",
              "      <th></th>\n",
              "    </tr>\n",
              "  </thead>\n",
              "  <tbody>\n",
              "    <tr>\n",
              "      <th rowspan=\"5\" valign=\"top\">BHP</th>\n",
              "      <th>2019-01-02</th>\n",
              "      <td>46.63999938964844</td>\n",
              "      <td>47.900001525878906</td>\n",
              "      <td>46.45000076293945</td>\n",
              "      <td>47.86000061035156</td>\n",
              "      <td>41.490047454833984</td>\n",
              "      <td>2003600</td>\n",
              "    </tr>\n",
              "    <tr>\n",
              "      <th>2019-01-03</th>\n",
              "      <td>47.25</td>\n",
              "      <td>47.380001068115234</td>\n",
              "      <td>46.29999923706055</td>\n",
              "      <td>46.38999938964844</td>\n",
              "      <td>40.2156982421875</td>\n",
              "      <td>3951500</td>\n",
              "    </tr>\n",
              "    <tr>\n",
              "      <th>2019-01-04</th>\n",
              "      <td>48.02000045776367</td>\n",
              "      <td>49.54999923706055</td>\n",
              "      <td>47.86000061035156</td>\n",
              "      <td>49.220001220703125</td>\n",
              "      <td>42.66904067993164</td>\n",
              "      <td>3996400</td>\n",
              "    </tr>\n",
              "    <tr>\n",
              "      <th>2019-01-07</th>\n",
              "      <td>49.369998931884766</td>\n",
              "      <td>49.939998626708984</td>\n",
              "      <td>49.099998474121094</td>\n",
              "      <td>49.47999954223633</td>\n",
              "      <td>42.894432067871094</td>\n",
              "      <td>3078700</td>\n",
              "    </tr>\n",
              "    <tr>\n",
              "      <th>2019-01-08</th>\n",
              "      <td>49.70000076293945</td>\n",
              "      <td>49.959999084472656</td>\n",
              "      <td>49.189998626708984</td>\n",
              "      <td>49.33000183105469</td>\n",
              "      <td>42.764400482177734</td>\n",
              "      <td>2907600</td>\n",
              "    </tr>\n",
              "    <tr>\n",
              "      <th>...</th>\n",
              "      <th>...</th>\n",
              "      <td>...</td>\n",
              "      <td>...</td>\n",
              "      <td>...</td>\n",
              "      <td>...</td>\n",
              "      <td>...</td>\n",
              "      <td>...</td>\n",
              "    </tr>\n",
              "    <tr>\n",
              "      <th rowspan=\"5\" valign=\"top\">CCH</th>\n",
              "      <th>2020-11-17</th>\n",
              "      <td>18.920000076293945</td>\n",
              "      <td>19.0</td>\n",
              "      <td>18.579999923706055</td>\n",
              "      <td>18.6200008392334</td>\n",
              "      <td>18.6200008392334</td>\n",
              "      <td>491872</td>\n",
              "    </tr>\n",
              "    <tr>\n",
              "      <th>2020-11-18</th>\n",
              "      <td>18.950000762939453</td>\n",
              "      <td>19.239999771118164</td>\n",
              "      <td>18.739999771118164</td>\n",
              "      <td>18.81999969482422</td>\n",
              "      <td>18.81999969482422</td>\n",
              "      <td>756785</td>\n",
              "    </tr>\n",
              "    <tr>\n",
              "      <th>2020-11-19</th>\n",
              "      <td>18.850000381469727</td>\n",
              "      <td>19.5</td>\n",
              "      <td>18.649999618530273</td>\n",
              "      <td>19.100000381469727</td>\n",
              "      <td>19.100000381469727</td>\n",
              "      <td>725184</td>\n",
              "    </tr>\n",
              "    <tr>\n",
              "      <th>2020-11-20</th>\n",
              "      <td>19.290000915527344</td>\n",
              "      <td>19.5</td>\n",
              "      <td>19.06999969482422</td>\n",
              "      <td>19.389999389648438</td>\n",
              "      <td>19.389999389648438</td>\n",
              "      <td>1020227</td>\n",
              "    </tr>\n",
              "    <tr>\n",
              "      <th></th>\n",
              "      <td>NaN</td>\n",
              "      <td>NaN</td>\n",
              "      <td>NaN</td>\n",
              "      <td>NaN</td>\n",
              "      <td>NaN</td>\n",
              "      <td>NaN</td>\n",
              "    </tr>\n",
              "  </tbody>\n",
              "</table>\n",
              "<p>1913 rows × 6 columns</p>\n",
              "</div>"
            ],
            "text/plain": [
              "                                  Open  ...   Volume\n",
              "Company Date                            ...         \n",
              "BHP     2019-01-02   46.63999938964844  ...  2003600\n",
              "        2019-01-03               47.25  ...  3951500\n",
              "        2019-01-04   48.02000045776367  ...  3996400\n",
              "        2019-01-07  49.369998931884766  ...  3078700\n",
              "        2019-01-08   49.70000076293945  ...  2907600\n",
              "...                                ...  ...      ...\n",
              "CCH     2020-11-17  18.920000076293945  ...   491872\n",
              "        2020-11-18  18.950000762939453  ...   756785\n",
              "        2020-11-19  18.850000381469727  ...   725184\n",
              "        2020-11-20  19.290000915527344  ...  1020227\n",
              "                                   NaN  ...      NaN\n",
              "\n",
              "[1913 rows x 6 columns]"
            ]
          },
          "metadata": {
            "tags": []
          },
          "execution_count": 179
        }
      ]
    },
    {
      "cell_type": "code",
      "metadata": {
        "colab": {
          "base_uri": "https://localhost:8080/"
        },
        "id": "_rnlorbWIXk_",
        "outputId": "96a4bb49-930b-45e7-e2a2-160821c73244"
      },
      "source": [
        " list(pd.Series(data.index.get_level_values(level=1)).unique())"
      ],
      "execution_count": 203,
      "outputs": [
        {
          "output_type": "execute_result",
          "data": {
            "text/plain": [
              "['2019-01-02',\n",
              " '2019-01-03',\n",
              " '2019-01-04',\n",
              " '2019-01-07',\n",
              " '2019-01-08',\n",
              " '2019-01-09',\n",
              " '2019-01-10',\n",
              " '2019-01-11',\n",
              " '2019-01-14',\n",
              " '2019-01-15',\n",
              " '2019-01-16',\n",
              " '2019-01-17',\n",
              " '2019-01-18',\n",
              " '2019-01-22',\n",
              " '2019-01-23',\n",
              " '2019-01-24',\n",
              " '2019-01-25',\n",
              " '2019-01-28',\n",
              " '2019-01-29',\n",
              " '2019-01-30',\n",
              " '2019-01-31',\n",
              " '2019-02-01',\n",
              " '2019-02-04',\n",
              " '2019-02-05',\n",
              " '2019-02-06',\n",
              " '2019-02-07',\n",
              " '2019-02-08',\n",
              " '2019-02-11',\n",
              " '2019-02-12',\n",
              " '2019-02-13',\n",
              " '2019-02-14',\n",
              " '2019-02-15',\n",
              " '2019-02-19',\n",
              " '2019-02-20',\n",
              " '2019-02-21',\n",
              " '2019-02-22',\n",
              " '2019-02-25',\n",
              " '2019-02-26',\n",
              " '2019-02-27',\n",
              " '2019-02-28',\n",
              " '2019-03-01',\n",
              " '2019-03-04',\n",
              " '2019-03-05',\n",
              " '2019-03-06',\n",
              " '2019-03-07',\n",
              " '2019-03-08',\n",
              " '2019-03-11',\n",
              " '2019-03-12',\n",
              " '2019-03-13',\n",
              " '2019-03-14',\n",
              " '2019-03-15',\n",
              " '2019-03-18',\n",
              " '2019-03-19',\n",
              " '2019-03-20',\n",
              " '2019-03-21',\n",
              " '2019-03-22',\n",
              " '2019-03-25',\n",
              " '2019-03-26',\n",
              " '2019-03-27',\n",
              " '2019-03-28',\n",
              " '2019-03-29',\n",
              " '2019-04-01',\n",
              " '2019-04-02',\n",
              " '2019-04-03',\n",
              " '2019-04-04',\n",
              " '2019-04-05',\n",
              " '2019-04-08',\n",
              " '2019-04-09',\n",
              " '2019-04-10',\n",
              " '2019-04-11',\n",
              " '2019-04-12',\n",
              " '2019-04-15',\n",
              " '2019-04-16',\n",
              " '2019-04-17',\n",
              " '2019-04-18',\n",
              " '2019-04-22',\n",
              " '2019-04-23',\n",
              " '2019-04-24',\n",
              " '2019-04-25',\n",
              " '2019-04-26',\n",
              " '2019-04-29',\n",
              " '2019-04-30',\n",
              " '2019-05-01',\n",
              " '2019-05-02',\n",
              " '2019-05-03',\n",
              " '2019-05-06',\n",
              " '2019-05-07',\n",
              " '2019-05-08',\n",
              " '2019-05-09',\n",
              " '2019-05-10',\n",
              " '2019-05-13',\n",
              " '2019-05-14',\n",
              " '2019-05-15',\n",
              " '2019-05-16',\n",
              " '2019-05-17',\n",
              " '2019-05-20',\n",
              " '2019-05-21',\n",
              " '2019-05-22',\n",
              " '2019-05-23',\n",
              " '2019-05-24',\n",
              " '2019-05-28',\n",
              " '2019-05-29',\n",
              " '2019-05-30',\n",
              " '2019-05-31',\n",
              " '2019-06-03',\n",
              " '2019-06-04',\n",
              " '2019-06-05',\n",
              " '2019-06-06',\n",
              " '2019-06-07',\n",
              " '2019-06-10',\n",
              " '2019-06-11',\n",
              " '2019-06-12',\n",
              " '2019-06-13',\n",
              " '2019-06-14',\n",
              " '2019-06-17',\n",
              " '2019-06-18',\n",
              " '2019-06-19',\n",
              " '2019-06-20',\n",
              " '2019-06-21',\n",
              " '2019-06-24',\n",
              " '2019-06-25',\n",
              " '2019-06-26',\n",
              " '2019-06-27',\n",
              " '2019-06-28',\n",
              " '2019-07-01',\n",
              " '2019-07-02',\n",
              " '2019-07-03',\n",
              " '2019-07-05',\n",
              " '2019-07-08',\n",
              " '2019-07-09',\n",
              " '2019-07-10',\n",
              " '2019-07-11',\n",
              " '2019-07-12',\n",
              " '2019-07-15',\n",
              " '2019-07-16',\n",
              " '2019-07-17',\n",
              " '2019-07-18',\n",
              " '2019-07-19',\n",
              " '2019-07-22',\n",
              " '2019-07-23',\n",
              " '2019-07-24',\n",
              " '2019-07-25',\n",
              " '2019-07-26',\n",
              " '2019-07-29',\n",
              " '2019-07-30',\n",
              " '2019-07-31',\n",
              " '2019-08-01',\n",
              " '2019-08-02',\n",
              " '2019-08-05',\n",
              " '2019-08-06',\n",
              " '2019-08-07',\n",
              " '2019-08-08',\n",
              " '2019-08-09',\n",
              " '2019-08-12',\n",
              " '2019-08-13',\n",
              " '2019-08-14',\n",
              " '2019-08-15',\n",
              " '2019-08-16',\n",
              " '2019-08-19',\n",
              " '2019-08-20',\n",
              " '2019-08-21',\n",
              " '2019-08-22',\n",
              " '2019-08-23',\n",
              " '2019-08-26',\n",
              " '2019-08-27',\n",
              " '2019-08-28',\n",
              " '2019-08-29',\n",
              " '2019-08-30',\n",
              " '2019-09-03',\n",
              " '2019-09-04',\n",
              " '2019-09-05',\n",
              " '2019-09-06',\n",
              " '2019-09-09',\n",
              " '2019-09-10',\n",
              " '2019-09-11',\n",
              " '2019-09-12',\n",
              " '2019-09-13',\n",
              " '2019-09-16',\n",
              " '2019-09-17',\n",
              " '2019-09-18',\n",
              " '2019-09-19',\n",
              " '2019-09-20',\n",
              " '2019-09-23',\n",
              " '2019-09-24',\n",
              " '2019-09-25',\n",
              " '2019-09-26',\n",
              " '2019-09-27',\n",
              " '2019-09-30',\n",
              " '2019-10-01',\n",
              " '2019-10-02',\n",
              " '2019-10-03',\n",
              " '2019-10-04',\n",
              " '2019-10-07',\n",
              " '2019-10-08',\n",
              " '2019-10-09',\n",
              " '2019-10-10',\n",
              " '2019-10-11',\n",
              " '2019-10-14',\n",
              " '2019-10-15',\n",
              " '2019-10-16',\n",
              " '2019-10-17',\n",
              " '2019-10-18',\n",
              " '2019-10-21',\n",
              " '2019-10-22',\n",
              " '2019-10-23',\n",
              " '2019-10-24',\n",
              " '2019-10-25',\n",
              " '2019-10-28',\n",
              " '2019-10-29',\n",
              " '2019-10-30',\n",
              " '2019-10-31',\n",
              " '2019-11-01',\n",
              " '2019-11-04',\n",
              " '2019-11-05',\n",
              " '2019-11-06',\n",
              " '2019-11-07',\n",
              " '2019-11-08',\n",
              " '2019-11-11',\n",
              " '2019-11-12',\n",
              " '2019-11-13',\n",
              " '2019-11-14',\n",
              " '2019-11-15',\n",
              " '2019-11-18',\n",
              " '2019-11-19',\n",
              " '2019-11-20',\n",
              " '2019-11-21',\n",
              " '2019-11-22',\n",
              " '2019-11-25',\n",
              " '2019-11-26',\n",
              " '2019-11-27',\n",
              " '2019-11-29',\n",
              " '2019-12-02',\n",
              " '2019-12-03',\n",
              " '2019-12-04',\n",
              " '2019-12-05',\n",
              " '2019-12-06',\n",
              " '2019-12-09',\n",
              " '2019-12-10',\n",
              " '2019-12-11',\n",
              " '2019-12-12',\n",
              " '2019-12-13',\n",
              " '2019-12-16',\n",
              " '2019-12-17',\n",
              " '2019-12-18',\n",
              " '2019-12-19',\n",
              " '2019-12-20',\n",
              " '2019-12-23',\n",
              " '2019-12-24',\n",
              " '2019-12-26',\n",
              " '2019-12-27',\n",
              " '2019-12-30',\n",
              " '2019-12-31',\n",
              " '2020-01-02',\n",
              " '2020-01-03',\n",
              " '2020-01-06',\n",
              " '2020-01-07',\n",
              " '2020-01-08',\n",
              " '2020-01-09',\n",
              " '2020-01-10',\n",
              " '2020-01-13',\n",
              " '2020-01-14',\n",
              " '2020-01-15',\n",
              " '2020-01-16',\n",
              " '2020-01-17',\n",
              " '2020-01-21',\n",
              " '2020-01-22',\n",
              " '2020-01-23',\n",
              " '2020-01-24',\n",
              " '2020-01-27',\n",
              " '2020-01-28',\n",
              " '2020-01-29',\n",
              " '2020-01-30',\n",
              " '2020-01-31',\n",
              " '2020-02-03',\n",
              " '2020-02-04',\n",
              " '2020-02-05',\n",
              " '2020-02-06',\n",
              " '2020-02-07',\n",
              " '2020-02-10',\n",
              " '2020-02-11',\n",
              " '2020-02-12',\n",
              " '2020-02-13',\n",
              " '2020-02-14',\n",
              " '2020-02-18',\n",
              " '2020-02-19',\n",
              " '2020-02-20',\n",
              " '2020-02-21',\n",
              " '2020-02-24',\n",
              " '2020-02-25',\n",
              " '2020-02-26',\n",
              " '2020-02-27',\n",
              " '2020-02-28',\n",
              " '2020-03-02',\n",
              " '2020-03-03',\n",
              " '2020-03-04',\n",
              " '2020-03-05',\n",
              " '2020-03-06',\n",
              " '2020-03-09',\n",
              " '2020-03-10',\n",
              " '2020-03-11',\n",
              " '2020-03-12',\n",
              " '2020-03-13',\n",
              " '2020-03-16',\n",
              " '2020-03-17',\n",
              " '2020-03-18',\n",
              " '2020-03-19',\n",
              " '2020-03-20',\n",
              " '2020-03-23',\n",
              " '2020-03-24',\n",
              " '2020-03-25',\n",
              " '2020-03-26',\n",
              " '2020-03-27',\n",
              " '2020-03-30',\n",
              " '2020-03-31',\n",
              " '2020-04-01',\n",
              " '2020-04-02',\n",
              " '2020-04-03',\n",
              " '2020-04-06',\n",
              " '2020-04-07',\n",
              " '2020-04-08',\n",
              " '2020-04-09',\n",
              " '2020-04-13',\n",
              " '2020-04-14',\n",
              " '2020-04-15',\n",
              " '2020-04-16',\n",
              " '2020-04-17',\n",
              " '2020-04-20',\n",
              " '2020-04-21',\n",
              " '2020-04-22',\n",
              " '2020-04-23',\n",
              " '2020-04-24',\n",
              " '2020-04-27',\n",
              " '2020-04-28',\n",
              " '2020-04-29',\n",
              " '2020-04-30',\n",
              " '2020-05-01',\n",
              " '2020-05-04',\n",
              " '2020-05-05',\n",
              " '2020-05-06',\n",
              " '2020-05-07',\n",
              " '2020-05-08',\n",
              " '2020-05-11',\n",
              " '2020-05-12',\n",
              " '2020-05-13',\n",
              " '2020-05-14',\n",
              " '2020-05-15',\n",
              " '2020-05-18',\n",
              " '2020-05-19',\n",
              " '2020-05-20',\n",
              " '2020-05-21',\n",
              " '2020-05-22',\n",
              " '2020-05-26',\n",
              " '2020-05-27',\n",
              " '2020-05-28',\n",
              " '2020-05-29',\n",
              " '2020-06-01',\n",
              " '2020-06-02',\n",
              " '2020-06-03',\n",
              " '2020-06-04',\n",
              " '2020-06-05',\n",
              " '2020-06-08',\n",
              " '2020-06-09',\n",
              " '2020-06-10',\n",
              " '2020-06-11',\n",
              " '2020-06-12',\n",
              " '2020-06-15',\n",
              " '2020-06-16',\n",
              " '2020-06-17',\n",
              " '2020-06-18',\n",
              " '2020-06-19',\n",
              " '2020-06-22',\n",
              " '2020-06-23',\n",
              " '2020-06-24',\n",
              " '2020-06-25',\n",
              " '2020-06-26',\n",
              " '2020-06-29',\n",
              " '2020-06-30',\n",
              " '2020-07-01',\n",
              " '2020-07-02',\n",
              " '2020-07-06',\n",
              " '2020-07-07',\n",
              " '2020-07-08',\n",
              " '2020-07-09',\n",
              " '2020-07-10',\n",
              " '2020-07-13',\n",
              " '2020-07-14',\n",
              " '2020-07-15',\n",
              " '2020-07-16',\n",
              " '2020-07-17',\n",
              " '2020-07-20',\n",
              " '2020-07-21',\n",
              " '2020-07-22',\n",
              " '2020-07-23',\n",
              " '2020-07-24',\n",
              " '2020-07-27',\n",
              " '2020-07-28',\n",
              " '2020-07-29',\n",
              " '2020-07-30',\n",
              " '2020-07-31',\n",
              " '2020-08-03',\n",
              " '2020-08-04',\n",
              " '2020-08-05',\n",
              " '2020-08-06',\n",
              " '2020-08-07',\n",
              " '2020-08-10',\n",
              " '2020-08-11',\n",
              " '2020-08-12',\n",
              " '2020-08-13',\n",
              " '2020-08-14',\n",
              " '2020-08-17',\n",
              " '2020-08-18',\n",
              " '2020-08-19',\n",
              " '2020-08-20',\n",
              " '2020-08-21',\n",
              " '2020-08-24',\n",
              " '2020-08-25',\n",
              " '2020-08-26',\n",
              " '2020-08-27',\n",
              " '2020-08-28',\n",
              " '2020-08-31',\n",
              " '2020-09-01',\n",
              " '2020-09-02',\n",
              " '2020-09-03',\n",
              " '2020-09-04',\n",
              " '2020-09-08',\n",
              " '2020-09-09',\n",
              " '2020-09-10',\n",
              " '2020-09-11',\n",
              " '2020-09-14',\n",
              " '2020-09-15',\n",
              " '2020-09-16',\n",
              " '2020-09-17',\n",
              " '2020-09-18',\n",
              " '2020-09-21',\n",
              " '2020-09-22',\n",
              " '2020-09-23',\n",
              " '2020-09-24',\n",
              " '2020-09-25',\n",
              " '2020-09-28',\n",
              " '2020-09-29',\n",
              " '2020-09-30',\n",
              " '2020-10-01',\n",
              " '2020-10-02',\n",
              " '2020-10-05',\n",
              " '2020-10-06',\n",
              " '2020-10-07',\n",
              " '2020-10-08',\n",
              " '2020-10-09',\n",
              " '2020-10-12',\n",
              " '2020-10-13',\n",
              " '2020-10-14',\n",
              " '2020-10-15',\n",
              " '2020-10-16',\n",
              " '2020-10-19',\n",
              " '2020-10-20',\n",
              " '2020-10-21',\n",
              " '2020-10-22',\n",
              " '2020-10-23',\n",
              " '2020-10-26',\n",
              " '2020-10-27',\n",
              " '2020-10-28',\n",
              " '2020-10-29',\n",
              " '2020-10-30',\n",
              " '2020-11-02',\n",
              " '2020-11-03',\n",
              " '2020-11-04',\n",
              " '2020-11-05',\n",
              " '2020-11-06',\n",
              " '2020-11-09',\n",
              " '2020-11-10',\n",
              " '2020-11-11',\n",
              " '2020-11-12',\n",
              " '2020-11-13',\n",
              " '2020-11-16',\n",
              " '2020-11-17',\n",
              " '2020-11-18',\n",
              " '2020-11-19',\n",
              " '2020-11-20',\n",
              " '']"
            ]
          },
          "metadata": {
            "tags": []
          },
          "execution_count": 203
        }
      ]
    },
    {
      "cell_type": "code",
      "metadata": {
        "colab": {
          "base_uri": "https://localhost:8080/"
        },
        "id": "PkAOTx4zUMyR",
        "outputId": "9b491732-951b-4e53-8e4a-99ea4743485e"
      },
      "source": [
        "colnames = list(data.columns)\n",
        "colnames"
      ],
      "execution_count": 164,
      "outputs": [
        {
          "output_type": "execute_result",
          "data": {
            "text/plain": [
              "['Open', 'High', 'Low', 'Close', 'Adj.Close', 'Volume', 'Company']"
            ]
          },
          "metadata": {
            "tags": []
          },
          "execution_count": 164
        }
      ]
    },
    {
      "cell_type": "code",
      "metadata": {
        "colab": {
          "base_uri": "https://localhost:8080/"
        },
        "id": "-HGEtwJ1IXN7",
        "outputId": "f9206c65-aca3-4bd7-a09f-99f18f4e7fbe"
      },
      "source": [
        "#- the time series should be from 2019-01-02 to 2020-11-20. Is it the case in your sample?\n",
        "desired = list(pd.Series(data.index.get_level_values(level=1)).unique())\n",
        "for company in lcompanies:\n",
        "  if desired == list(data.loc[company].index):\n",
        "    print(\"For \"+ company + \" it is fulfilled!\")\n",
        "  else:\n",
        "    print(\"For \"+ company + \" it is not fulfilled!\")"
      ],
      "execution_count": 204,
      "outputs": [
        {
          "output_type": "stream",
          "text": [
            "For BHPit is fulfilled!\n",
            "For HIKit is not fulfilled!\n",
            "For SLAit is not fulfilled!\n",
            "For PSNit is not fulfilled!\n",
            "For CCHit is fulfilled!\n"
          ],
          "name": "stdout"
        }
      ]
    },
    {
      "cell_type": "code",
      "metadata": {
        "id": "oanZzkr1Z3VZ"
      },
      "source": [
        ""
      ],
      "execution_count": null,
      "outputs": []
    },
    {
      "cell_type": "code",
      "metadata": {
        "id": "v1RnD-o7ZZjE"
      },
      "source": [
        "#- what is the highest and lowest Adj Close price the company recorded?\n",
        "for company in lcompanies:\n",
        "  temp = "
      ],
      "execution_count": null,
      "outputs": []
    },
    {
      "cell_type": "code",
      "metadata": {
        "id": "hoOt4LVsZZd1"
      },
      "source": [
        "#- what day was the highest number of shares traded\n"
      ],
      "execution_count": null,
      "outputs": []
    },
    {
      "cell_type": "code",
      "metadata": {
        "id": "r-vIzo6-ZZYm"
      },
      "source": [
        "#- what is the total of shares traded\n"
      ],
      "execution_count": null,
      "outputs": []
    },
    {
      "cell_type": "code",
      "metadata": {
        "id": "U-6QoNdzZZTH"
      },
      "source": [
        "#- for the company with the highest volume of shares traded over the whole period, plot their share price over time\n"
      ],
      "execution_count": null,
      "outputs": []
    },
    {
      "cell_type": "code",
      "metadata": {
        "id": "_5cFRSofZZN8"
      },
      "source": [
        "#- when did the company record the highest gain and highest loss for the day? (logarithmic loss)\n"
      ],
      "execution_count": null,
      "outputs": []
    },
    {
      "cell_type": "code",
      "metadata": {
        "id": "KGQNOoOUZZI3"
      },
      "source": [
        "#- plot the log returns for the company that has the largest difference between opening and closing price. What day and what company did it occur at?\n"
      ],
      "execution_count": null,
      "outputs": []
    },
    {
      "cell_type": "code",
      "metadata": {
        "id": "xZKv4hIHZZDy"
      },
      "source": [
        "#- find monthly returns. Which company has the highest recorded?\n"
      ],
      "execution_count": null,
      "outputs": []
    },
    {
      "cell_type": "code",
      "metadata": {
        "id": "ojdJOxYgZZA0"
      },
      "source": [
        "#- for stocks with full time series, calculate 10day volatility by calculating the standard\n",
        "#deviation of the previous 10 days. (i.e. 10th day is the first observation and it includes\n",
        "#given day)"
      ],
      "execution_count": null,
      "outputs": []
    },
    {
      "cell_type": "code",
      "metadata": {
        "id": "wfDBdIYlZY1i"
      },
      "source": [
        "#- create a single object with Adjusted Close prices, plot them together in one time series\n",
        "#plot"
      ],
      "execution_count": null,
      "outputs": []
    },
    {
      "cell_type": "code",
      "metadata": {
        "id": "2vnDGvPtZYyp"
      },
      "source": [
        ""
      ],
      "execution_count": null,
      "outputs": []
    },
    {
      "cell_type": "code",
      "metadata": {
        "id": "dQYgQetEZYuQ"
      },
      "source": [
        ""
      ],
      "execution_count": null,
      "outputs": []
    },
    {
      "cell_type": "code",
      "metadata": {
        "id": "2wxF7s_GZYq8"
      },
      "source": [
        ""
      ],
      "execution_count": null,
      "outputs": []
    }
  ]
}